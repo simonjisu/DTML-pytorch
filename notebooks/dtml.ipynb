{
 "cells": [
  {
   "cell_type": "code",
   "execution_count": 4,
   "metadata": {},
   "outputs": [],
   "source": [
    "import torch\n",
    "import os\n",
    "import numpy as np\n",
    "import pandas as pd\n",
    "\n",
    "from pathlib import Path\n",
    "from typing import Dict, List\n",
    "\n",
    "src_path = Path('.').absolute().parent\n",
    "data_path = src_path / 'data'"
   ]
  },
  {
   "cell_type": "code",
   "execution_count": 337,
   "metadata": {},
   "outputs": [],
   "source": [
    "data_path = src_path / 'data'\n",
    "ps = list((data_path / 'kdd17/price_long_50').glob('*'))\n",
    "p = ps[0]"
   ]
  },
  {
   "cell_type": "code",
   "execution_count": 301,
   "metadata": {},
   "outputs": [],
   "source": [
    "df_date = pd.read_csv(data_path / 'trading_dates.csv', header=None)\n",
    "df = pd.read_csv(p)\n",
    "df['Date'] = pd.to_datetime(df['Date'], format='%m/%d/%Y')\n",
    "df = df.sort_values('Date').reset_index(drop=True)\n",
    "df.drop(columns=df.columns[7], inplace=True)"
   ]
  },
  {
   "cell_type": "code",
   "execution_count": null,
   "metadata": {},
   "outputs": [],
   "source": [
    "df_date = pd.read_csv(data_path / 'trading_dates.csv', header=None)"
   ]
  },
  {
   "cell_type": "code",
   "execution_count": 406,
   "metadata": {},
   "outputs": [],
   "source": [
    "class DTMLDataset(torch.utils.data.Dataset):\n",
    "    def __init__(self, data_path, ds_config):\n",
    "        self.data_dir = data_path / ds_config['path']\n",
    "\n",
    "class DTMLDataset(pl.LightningDataModule):\n",
    "    def __init__(self, data_path, window_size, dtype=''):\n",
    "\n",
    "        # ref: https://arxiv.org/abs/1810.09936\n",
    "        ds_info = {\n",
    "            # train: (Jan-01-2007 to Jan-01-2015)\n",
    "            # val: (Jan-01-2015 to Jan-01-2016)\n",
    "            # test: (Jan-01-2016 to Jan-01-2017)\n",
    "            'kdd17': {\n",
    "                'path': 'kdd17/price_long_50',\n",
    "                'date_path': 'kdd17/trading_dates.csv',\n",
    "                'train_date': '2015-01-01', \n",
    "                'val_date': '2016-01-01', \n",
    "                'test_date': '2017-01-01',\n",
    "                'window_size': window_size\n",
    "            },\n",
    "            # train: (Jan-01-2014 to Aug-01-2015)\n",
    "            # vali: (Aug-01-2015 to Oct-01-2015)\n",
    "            # test: (Oct-01-2015 to Jan-01-2016)\n",
    "            'acl18': {\n",
    "                'path': 'stocknet-dataset/price/raw',\n",
    "                'date_path': 'stocknet-dataset/price/trading_dates.csv',\n",
    "                'train_date': '2015-08-01', \n",
    "                'val_date': '2015-10-01', \n",
    "                'test_date': '2016-01-01',\n",
    "                'window_size': window_size\n",
    "            }\n",
    "        }\n",
    "        ds_config = ds_info[dtype]\n",
    "    \n",
    "    def load_dataset(self, config: dict):\n",
    "        tick_files = [p for p in self.data_dir.glob('*') if not p.is_dir()]\n",
    "\n",
    "        train_data = []\n",
    "        val_data = []\n",
    "        test_data = []\n",
    "        for p in tick_files:\n",
    "            df = self.load_single_tick(p)\n",
    "            # train / val / test split\n",
    "            df['date']\n",
    "\n",
    "    def load_single_tick(self, p: Path | str):\n",
    "        def longterm_trend(x: pd.Series, k:int):\n",
    "            return (x.rolling(k).sum().div(k*x) - 1) * 100\n",
    "\n",
    "        df = pd.read_csv(p)\n",
    "        df['Date'] = pd.to_datetime(df['Date'])\n",
    "        df = df.sort_values('Date').reset_index(drop=True)\n",
    "        if 'Unnamed' in df.columns:\n",
    "            df.drop(columns=df.columns[7], inplace=True)\n",
    "        if 'Original_Open' in df.columns:\n",
    "            df.rename(columns={'Original_Open': 'Open', 'Open': 'Adj Open'}, inplace=True)\n",
    "\n",
    "        # Open, High, Low\n",
    "        z1 = (df.loc[:, ['Open', 'High', 'Low']].div(df['Close'], axis=0) - 1).rename(\n",
    "            columns={'Open': 'open', 'High': 'high', 'Low': 'low'}) * 100\n",
    "        # Close\n",
    "        z2 = df[['Close']].pct_change().rename(columns={'Close': 'close'}) * 100\n",
    "        # Adj Close\n",
    "        z3 = df[['Adj Close']].pct_change().rename(columns={'Adj Close': 'adj_close'}) * 100\n",
    "\n",
    "        z4 = []\n",
    "        for k in [5, 10, 15, 20, 25, 30]:\n",
    "            z4.append(df[['Adj Close']].apply(longterm_trend, k=k).rename(columns={'Adj Close': f'zd{k}'}))\n",
    "\n",
    "        df_pct = pd.concat([df['Date'], z1, z2, z3] + z4, axis=1).rename(columns={'Date': 'date'})\n",
    "        cols_max = df_pct.columns[df_pct.isnull().sum() == df_pct.isnull().sum().max()]\n",
    "        df_pct = df_pct.loc[~df_pct[cols_max].isnull().values, :]\n",
    "\n",
    "        # from https://arxiv.org/abs/1810.09936\n",
    "        # Examples with movement percent ≥ 0.55% and ≤ −0.5% are \n",
    "        # identified as positive and negative examples, respectively\n",
    "        \n",
    "        df_pct['label'] = 0\n",
    "        df_pct.loc[(df_pct['close'] >= 0.55), 'label'] = 1\n",
    "        df_pct.loc[(df_pct['close'] <= -0.5), 'label'] = -1\n",
    "\n",
    "        # only select rise / fall\n",
    "        df_pct['label'] = (df_pct['label'] + 1) / 2\n",
    "        df_pct = df_pct.loc[df_pct['label'] != 0.5, :].reset_index(drop=True)\n",
    "\n",
    "        return df_pct"
   ]
  },
  {
   "cell_type": "code",
   "execution_count": 415,
   "metadata": {},
   "outputs": [],
   "source": [
    "def load_single_tick(p: Path | str):\n",
    "    def longterm_trend(x: pd.Series, k:int):\n",
    "        return (x.rolling(k).sum().div(k*x) - 1) * 100\n",
    "\n",
    "    df = pd.read_csv(p)\n",
    "    df['Date'] = pd.to_datetime(df['Date'])#, format='%m/%d/%Y')\n",
    "    df = df.sort_values('Date').reset_index(drop=True)\n",
    "    if 'Unnamed' in df.columns:\n",
    "        df.drop(columns=df.columns[7], inplace=True)\n",
    "    if 'Original_Open' in df.columns:\n",
    "        df.rename(columns={'Open': 'Adj Open', 'Original_Open': 'Open'}, inplace=True)\n",
    "    # Open, High, Low\n",
    "    z1 = (df.loc[:, ['Open', 'High', 'Low']].div(df['Close'], axis=0) - 1).rename(\n",
    "        columns={'Open': 'open', 'High': 'high', 'Low': 'low'}) * 100\n",
    "    # Close\n",
    "    z2 = df[['Close']].pct_change().rename(columns={'Close': 'close'}) * 100\n",
    "    # Adj Close\n",
    "    z3 = df[['Adj Close']].pct_change().rename(columns={'Adj Close': 'adj_close'}) * 100\n",
    "\n",
    "    z4 = []\n",
    "    for k in [5, 10, 15, 20, 25, 30]:\n",
    "        z4.append(df[['Adj Close']].apply(longterm_trend, k=k).rename(columns={'Adj Close': f'zd{k}'}))\n",
    "\n",
    "    df_pct = pd.concat([df['Date'], z1, z2, z3] + z4, axis=1).rename(columns={'Date': 'date'})\n",
    "    cols_max = df_pct.columns[df_pct.isnull().sum() == df_pct.isnull().sum().max()]\n",
    "    df_pct = df_pct.loc[~df_pct[cols_max].isnull().values, :]\n",
    "\n",
    "    # from https://arxiv.org/abs/1810.09936\n",
    "    # Examples with movement percent ≥ 0.55% and ≤ −0.5% are \n",
    "    # identified as positive and negative examples, respectively\n",
    "    \n",
    "    df_pct['label'] = 0\n",
    "    df_pct.loc[(df_pct['close'] >= 0.55), 'label'] = 1\n",
    "    df_pct.loc[(df_pct['close'] <= -0.5), 'label'] = -1\n",
    "\n",
    "    # only select rise / fall\n",
    "    df_pct['label'] = (df_pct['label'] + 1) / 2\n",
    "    df_pct = df_pct.loc[df_pct['label'] != 0.5, :].reset_index(drop=True)\n",
    "\n",
    "    return df_pct"
   ]
  },
  {
   "cell_type": "code",
   "execution_count": 416,
   "metadata": {},
   "outputs": [],
   "source": [
    "window_size = 5\n",
    "dtype = 'kdd17'\n",
    "ds_info = {\n",
    "    # train: (Jan-01-2007 to Jan-01-2015)\n",
    "    # val: (Jan-01-2015 to Jan-01-2016)\n",
    "    # test: (Jan-01-2016 to Jan-01-2017)\n",
    "    'kdd17': {\n",
    "        'path': 'kdd17/price_long_50',\n",
    "        'date_path': 'kdd17/trading_dates.csv',\n",
    "        'train_date': '2015-01-01', \n",
    "        'val_date': '2016-01-01', \n",
    "        'test_date': '2017-01-01',\n",
    "        'window_size': window_size\n",
    "    },\n",
    "    # train: (Jan-01-2014 to Aug-01-2015)\n",
    "    # vali: (Aug-01-2015 to Oct-01-2015)\n",
    "    # test: (Oct-01-2015 to Jan-01-2016)\n",
    "    'acl18': {\n",
    "        'path': 'stocknet-dataset/price/raw',\n",
    "        'date_path': 'stocknet-dataset/price/trading_dates.csv',\n",
    "        'train_date': '2015-08-01', \n",
    "        'val_date': '2015-10-01', \n",
    "        'test_date': '2016-01-01',\n",
    "        'window_size': window_size\n",
    "    }\n",
    "}\n",
    "ds_config = ds_info[dtype]"
   ]
  },
  {
   "cell_type": "code",
   "execution_count": 379,
   "metadata": {},
   "outputs": [],
   "source": [
    "index2date = pd.read_csv(data_path / ds_config['date_path'], header=None).to_dict()[0]"
   ]
  },
  {
   "cell_type": "code",
   "execution_count": 417,
   "metadata": {},
   "outputs": [],
   "source": [
    "data_dir = data_path / ds_config['path']\n",
    "tick_files = [p for p in data_dir.glob('*') if not p.is_dir()]"
   ]
  },
  {
   "cell_type": "code",
   "execution_count": 418,
   "metadata": {},
   "outputs": [],
   "source": [
    "data = []\n",
    "for p in tick_files:\n",
    "    data.append(load_single_tick(p))"
   ]
  },
  {
   "cell_type": "code",
   "execution_count": 380,
   "metadata": {},
   "outputs": [
    {
     "name": "stdout",
     "output_type": "stream",
     "text": [
      "1465 179 158\n"
     ]
    }
   ],
   "source": [
    "\n",
    "df = load_single_tick(p)\n",
    "train_idx = df['date'] < ds_config['train_date']\n",
    "val_idx = (ds_config['train_date'] <= df['date']) & (df['date'] < ds_config['val_date'])\n",
    "test_idx = (ds_config['val_date'] <= df['date']) & (df['date'] < ds_config['test_date'])\n",
    "\n",
    "print(train_idx.sum(), val_idx.sum(), test_idx.sum())\n",
    "\n",
    "train_data = df.loc[train_idx, :]\n",
    "val_data = df.loc[val_idx, :]\n",
    "test_idx = df.loc[test_idx, :]"
   ]
  },
  {
   "cell_type": "code",
   "execution_count": 349,
   "metadata": {},
   "outputs": [],
   "source": [
    "def sliding_window(T: int, window_size: int, time_lag: int):\n",
    "    X_idx = np.expand_dims(np.arange(window_size), 0) + \\\n",
    "                np.expand_dims(np.arange(T - window_size - time_lag + 1), 0).T\n",
    "    y_idx = np.arange(time_lag + window_size - 1 , T)\n",
    "    \n",
    "    return X_idx, y_idx"
   ]
  },
  {
   "cell_type": "code",
   "execution_count": 350,
   "metadata": {},
   "outputs": [],
   "source": [
    "T = len(df.loc[train_idx, :])\n",
    "window_size = 10\n",
    "time_lag = 1"
   ]
  },
  {
   "cell_type": "code",
   "execution_count": 366,
   "metadata": {},
   "outputs": [
    {
     "data": {
      "text/plain": [
       "(array([0, 1, 2, 3, 4, 5, 6, 7, 8, 9]), 10)"
      ]
     },
     "execution_count": 366,
     "metadata": {},
     "output_type": "execute_result"
    }
   ],
   "source": [
    "X_idx[0], y_idx[0]"
   ]
  },
  {
   "cell_type": "code",
   "execution_count": 351,
   "metadata": {},
   "outputs": [],
   "source": [
    "X_idx, y_idx = sliding_window(T, window_size, time_lag)"
   ]
  },
  {
   "cell_type": "code",
   "execution_count": 361,
   "metadata": {},
   "outputs": [
    {
     "data": {
      "text/plain": [
       "array([  10,   11,   12, ..., 1982, 1983, 1984])"
      ]
     },
     "execution_count": 361,
     "metadata": {},
     "output_type": "execute_result"
    }
   ],
   "source": [
    "y_idx"
   ]
  },
  {
   "cell_type": "code",
   "execution_count": 360,
   "metadata": {},
   "outputs": [
    {
     "data": {
      "text/plain": [
       "(1975, 10, 13)"
      ]
     },
     "execution_count": 360,
     "metadata": {},
     "output_type": "execute_result"
    }
   ],
   "source": [
    "train_data.values[X_idx].shape"
   ]
  },
  {
   "cell_type": "code",
   "execution_count": 172,
   "metadata": {},
   "outputs": [],
   "source": [
    "import torch\n",
    "import torch.nn as nn\n",
    "import pytorch_lightning as pl\n",
    "\n",
    "class TimeAxisAttention(nn.Module):\n",
    "    def __init__(self, input_size: int, hidden_size: int, num_layers: int):\n",
    "        super().__init__()\n",
    "        self.lstm = nn.LSTM(input_size, hidden_size, num_layers, batch_first=True, bidirectional=False)\n",
    "        self.lnorm = nn.LayerNorm(hidden_size)\n",
    "\n",
    "    def forward(self, x: torch.tensor, rt_attn=False):\n",
    "        # x: (D, W, L)\n",
    "        o, (h, _) = self.lstm(x) # o: (D, W, H) / h: (1, D, H)\n",
    "        score = torch.bmm(o, h.permute(1, 2, 0)) # (D, W, H) x (D, H, 1)\n",
    "        tx_attn = torch.softmax(score, 1).squeeze(-1)  # (D, W)\n",
    "        context = torch.bmm(tx_attn.unsqueeze(1), o).squeeze(1)  # (D, 1, W) x (D, W, H)\n",
    "        normed_context = self.lnorm(context)\n",
    "        if rt_attn:\n",
    "            return normed_context, tx_attn\n",
    "        else:\n",
    "            return normed_context, None\n",
    "            \n",
    "class DataAxisAttention(nn.Module):\n",
    "    def __init__(self, hidden_size, n_heads, drop_rate=0.1):\n",
    "        super().__init__()\n",
    "        self.multi_attn = nn.MultiheadAttention(hidden_size, n_heads, batch_first=True)\n",
    "        self.mlp = nn.Sequential(\n",
    "            nn.Linear(hidden_size, 4*hidden_size),\n",
    "            nn.ReLU(),\n",
    "            nn.Linear(4*hidden_size, hidden_size)\n",
    "        )\n",
    "        self.lnorm1 = nn.LayerNorm(hidden_size)\n",
    "        self.lnorm2 = nn.LayerNorm(hidden_size)\n",
    "        self.drop_out = nn.Dropout(drop_rate)\n",
    "\n",
    "    def forward(self, hm: torch.tensor, rt_attn=False):\n",
    "        # Forward Multi-head Attention\n",
    "        residual = hm\n",
    "        # hm_hat: (D, H), dx_attn: (D, D) \n",
    "        hm_hat, dx_attn = self.multi_attn(hm, hm, hm)\n",
    "        hm_hat = self.lnorm1(residual + self.drop_out(hm_hat))\n",
    "\n",
    "        # Forward FFN\n",
    "        residual = hm_hat\n",
    "        # hp: (D, H)\n",
    "        hp = torch.tanh(hm + hm_hat + self.mlp(hm + hm_hat))\n",
    "        hp = self.lnorm2(residual + self.drop_out(hp))\n",
    "\n",
    "        if rt_attn:\n",
    "            return hp, dx_attn\n",
    "        else:\n",
    "            return hp, None\n",
    "\n",
    "class DTML(nn.Module):\n",
    "    def __init__(self, input_size, hidden_size, num_layers, n_heads, beta=0.1, drop_rate=0.1):\n",
    "        super.__init__()\n",
    "        self.beta = beta\n",
    "        self.txattention = TimeAxisAttention(input_size, hidden_size, num_layers)\n",
    "        self.dxattention = DataAxisAttention(hidden_size, n_heads, drop_rate)\n",
    "        self.linear = nn.Linear(hidden_size, 1)\n",
    "\n",
    "    def forward(self, stocks, index, rt_attn=False):\n",
    "        # stocks: (W, D, L) for a single time stamp\n",
    "        # index: (W, 1, L) for a single time stamp\n",
    "        # W: length of observations\n",
    "        # D: number of stocks\n",
    "        # L: number of features\n",
    "        \n",
    "        # Time-Axis Attention\n",
    "        # c_stocks: (D, H) / tx_attn_stocks: (D, W)\n",
    "        c_stocks, tx_attn_stocks = self.txattention(stocks.transpose(1, 0), rt_attn=rt_attn)\n",
    "        # c_index: (1, H) / tx_attn_index: (1, W)\n",
    "        c_index, tx_attn_index = self.txattention(index.transpose(1, 0), rt_attn=rt_attn)\n",
    "        \n",
    "        # Context Aggregation\n",
    "        # Multi-level Context\n",
    "        # hm: (D, H)\n",
    "        hm = c_stocks + self.beta * c_index\n",
    "        # The Effect of Global Contexts\n",
    "        # effect: (D, D)\n",
    "        effect = c_stocks.mm(c_stocks.transpose(0, 1)) + \\\n",
    "            self.beta * c_index.mm(c_stocks.transpose(1, 0)) + \\\n",
    "            self.beta**2 * torch.mm(c_index, c_index.transpose(0, 1)) \n",
    "\n",
    "        # Data-Axis Attention\n",
    "        # hp: (D, H) / dx_attn: (D, D)\n",
    "        hp, dx_attn_stocks = self.dxattention(hm, rt_attn=rt_attn)\n",
    "        # output: (D, 1)\n",
    "        output = self.linear(hp)\n",
    "\n",
    "        return {\n",
    "            'output': output,\n",
    "            'tx_attn_stocks': tx_attn_stocks,\n",
    "            'tx_attn_index': tx_attn_index,\n",
    "            'dx_attn_stocks': dx_attn_stocks,\n",
    "            'effect': effect\n",
    "        }"
   ]
  }
 ],
 "metadata": {
  "interpreter": {
   "hash": "182524fd67dce2ccd586a875024231566dd6dead8c7f6ebf3aeb9996410309e9"
  },
  "kernelspec": {
   "display_name": "Python 3.10.4 ('DTML-pytorch-zdzL19Pb')",
   "language": "python",
   "name": "python3"
  },
  "language_info": {
   "codemirror_mode": {
    "name": "ipython",
    "version": 3
   },
   "file_extension": ".py",
   "mimetype": "text/x-python",
   "name": "python",
   "nbconvert_exporter": "python",
   "pygments_lexer": "ipython3",
   "version": "3.10.4"
  },
  "orig_nbformat": 4
 },
 "nbformat": 4,
 "nbformat_minor": 2
}
